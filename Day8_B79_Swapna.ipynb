{
 "cells": [
  {
   "cell_type": "code",
   "execution_count": null,
   "id": "1c0b083a",
   "metadata": {},
   "outputs": [],
   "source": [
    "# introduction to dictionaries: ***"
   ]
  },
  {
   "cell_type": "code",
   "execution_count": null,
   "id": "0303c5d2",
   "metadata": {},
   "outputs": [],
   "source": [
    "Defination: A dictionary is a combination of key value pairs\n",
    "Classification: It is classified as a mutable datatype\n",
    "How to define dictionary ..........? {}"
   ]
  },
  {
   "cell_type": "code",
   "execution_count": null,
   "id": "3c6a76b8",
   "metadata": {},
   "outputs": [],
   "source": [
    "Note: In all real world dictionary datatype will be used extensively."
   ]
  },
  {
   "cell_type": "code",
   "execution_count": null,
   "id": "508d9cb0",
   "metadata": {},
   "outputs": [],
   "source": []
  },
  {
   "cell_type": "code",
   "execution_count": null,
   "id": "f96d03ba",
   "metadata": {},
   "outputs": [],
   "source": [
    "# i want to create a alien game"
   ]
  },
  {
   "cell_type": "code",
   "execution_count": 1,
   "id": "b35db3fe",
   "metadata": {},
   "outputs": [],
   "source": [
    "alien={'color':'green','points':5}"
   ]
  },
  {
   "cell_type": "code",
   "execution_count": 2,
   "id": "203f44bc",
   "metadata": {},
   "outputs": [
    {
     "name": "stdout",
     "output_type": "stream",
     "text": [
      "{'color': 'green', 'points': 5}\n"
     ]
    }
   ],
   "source": [
    "print(alien)"
   ]
  },
  {
   "cell_type": "code",
   "execution_count": 3,
   "id": "d765c7a2",
   "metadata": {},
   "outputs": [
    {
     "data": {
      "text/plain": [
       "dict"
      ]
     },
     "execution_count": 3,
     "metadata": {},
     "output_type": "execute_result"
    }
   ],
   "source": [
    "type(alien)"
   ]
  },
  {
   "cell_type": "code",
   "execution_count": null,
   "id": "a9fd7775",
   "metadata": {},
   "outputs": [],
   "source": [
    "# how to access the key value pairs....!"
   ]
  },
  {
   "cell_type": "code",
   "execution_count": null,
   "id": "c211e1c0",
   "metadata": {},
   "outputs": [],
   "source": [
    "# how many points for killing on alien"
   ]
  },
  {
   "cell_type": "code",
   "execution_count": 4,
   "id": "49c7e743",
   "metadata": {},
   "outputs": [
    {
     "name": "stdout",
     "output_type": "stream",
     "text": [
      "5\n"
     ]
    }
   ],
   "source": [
    "print(alien['points']) # key....o/p....value"
   ]
  },
  {
   "cell_type": "code",
   "execution_count": null,
   "id": "01048f02",
   "metadata": {
    "collapsed": true
   },
   "outputs": [],
   "source": [
    "note: key will be acting as index values in the dictionary"
   ]
  },
  {
   "cell_type": "code",
   "execution_count": null,
   "id": "3c59b3a7",
   "metadata": {},
   "outputs": [],
   "source": [
    "give the key get the value."
   ]
  },
  {
   "cell_type": "code",
   "execution_count": null,
   "id": "8b4c1bd9",
   "metadata": {},
   "outputs": [],
   "source": [
    "# can we give the value and get the key....?\n",
    "NO"
   ]
  },
  {
   "cell_type": "code",
   "execution_count": 5,
   "id": "b3172118",
   "metadata": {},
   "outputs": [
    {
     "ename": "KeyError",
     "evalue": "'green'",
     "output_type": "error",
     "traceback": [
      "\u001b[1;31m---------------------------------------------------------------------------\u001b[0m",
      "\u001b[1;31mKeyError\u001b[0m                                  Traceback (most recent call last)",
      "Cell \u001b[1;32mIn[5], line 1\u001b[0m\n\u001b[1;32m----> 1\u001b[0m \u001b[38;5;28mprint\u001b[39m(alien[\u001b[38;5;124m'\u001b[39m\u001b[38;5;124mgreen\u001b[39m\u001b[38;5;124m'\u001b[39m])\n",
      "\u001b[1;31mKeyError\u001b[0m: 'green'"
     ]
    }
   ],
   "source": [
    "print(alien['green'])"
   ]
  },
  {
   "cell_type": "code",
   "execution_count": null,
   "id": "273ee087",
   "metadata": {},
   "outputs": [],
   "source": [
    "# how to add new key value pairs ...... to dictionary!"
   ]
  },
  {
   "cell_type": "code",
   "execution_count": null,
   "id": "04c258f0",
   "metadata": {},
   "outputs": [],
   "source": [
    "# i want to add level-1"
   ]
  },
  {
   "cell_type": "code",
   "execution_count": 6,
   "id": "03e08ad6",
   "metadata": {},
   "outputs": [],
   "source": [
    "alien['level']=1"
   ]
  },
  {
   "cell_type": "code",
   "execution_count": 7,
   "id": "5aba35bc",
   "metadata": {},
   "outputs": [
    {
     "name": "stdout",
     "output_type": "stream",
     "text": [
      "{'color': 'green', 'points': 5, 'level': 1}\n"
     ]
    }
   ],
   "source": [
    "print(alien)"
   ]
  },
  {
   "cell_type": "code",
   "execution_count": null,
   "id": "478dc7e1",
   "metadata": {},
   "outputs": [],
   "source": [
    "# i want to modify the color to yellow"
   ]
  },
  {
   "cell_type": "code",
   "execution_count": 8,
   "id": "1cacdda1",
   "metadata": {},
   "outputs": [],
   "source": [
    "alien['color']='yellow'"
   ]
  },
  {
   "cell_type": "code",
   "execution_count": 9,
   "id": "cdef1415",
   "metadata": {},
   "outputs": [
    {
     "name": "stdout",
     "output_type": "stream",
     "text": [
      "{'color': 'yellow', 'points': 5, 'level': 1}\n"
     ]
    }
   ],
   "source": [
    "print(alien)"
   ]
  },
  {
   "cell_type": "code",
   "execution_count": null,
   "id": "e6092c86",
   "metadata": {},
   "outputs": [],
   "source": [
    "# how to delete the key value pairs from the dictionary"
   ]
  },
  {
   "cell_type": "code",
   "execution_count": null,
   "id": "f305e978",
   "metadata": {},
   "outputs": [],
   "source": [
    "# i want to delete points....!"
   ]
  },
  {
   "cell_type": "code",
   "execution_count": 10,
   "id": "d4cdfcb0",
   "metadata": {},
   "outputs": [],
   "source": [
    "del alien['points']"
   ]
  },
  {
   "cell_type": "code",
   "execution_count": 11,
   "id": "e035b027",
   "metadata": {},
   "outputs": [
    {
     "name": "stdout",
     "output_type": "stream",
     "text": [
      "{'color': 'yellow', 'level': 1}\n"
     ]
    }
   ],
   "source": [
    "print(alien)"
   ]
  },
  {
   "cell_type": "code",
   "execution_count": null,
   "id": "5469239e",
   "metadata": {},
   "outputs": [],
   "source": []
  },
  {
   "cell_type": "code",
   "execution_count": null,
   "id": "970b6ccc",
   "metadata": {},
   "outputs": [],
   "source": [
    "# implementation of a loop on a dictionary:"
   ]
  },
  {
   "cell_type": "code",
   "execution_count": null,
   "id": "c37d6af0",
   "metadata": {},
   "outputs": [],
   "source": [
    "# general syntax:\n",
    "\n",
    "for tempvar1,tempvar2 in amainvar.items():\n",
    "    print(tempvar1)\n",
    "    print(tempvar2)"
   ]
  },
  {
   "cell_type": "code",
   "execution_count": 12,
   "id": "16b1027a",
   "metadata": {},
   "outputs": [
    {
     "name": "stdout",
     "output_type": "stream",
     "text": [
      "color\n",
      "yellow\n",
      "level\n",
      "1\n"
     ]
    }
   ],
   "source": [
    "for k,v, in alien.items():\n",
    "    print(k)\n",
    "    print(v)"
   ]
  },
  {
   "cell_type": "code",
   "execution_count": 14,
   "id": "38c819cb",
   "metadata": {},
   "outputs": [
    {
     "name": "stdout",
     "output_type": "stream",
     "text": [
      "key  :color\n",
      "value:yellow\n",
      "key  :level\n",
      "value:1\n"
     ]
    }
   ],
   "source": [
    "for k,v, in alien.items():\n",
    "    print(f\"key  :{k}\")\n",
    "    print(f\"value:{v}\")"
   ]
  },
  {
   "cell_type": "code",
   "execution_count": null,
   "id": "37a5c4fa",
   "metadata": {},
   "outputs": [],
   "source": [
    "# req : create a user account in facebook:"
   ]
  },
  {
   "cell_type": "code",
   "execution_count": 15,
   "id": "fce81e7c",
   "metadata": {},
   "outputs": [],
   "source": [
    "user_name = {'first_name':'code', 'last_name':'training','password':'54321','dob':'01-01-2020'}"
   ]
  },
  {
   "cell_type": "code",
   "execution_count": 16,
   "id": "6388531a",
   "metadata": {},
   "outputs": [
    {
     "name": "stdout",
     "output_type": "stream",
     "text": [
      "{'first_name': 'code', 'last_name': 'training', 'password': '54321', 'dob': '01-01-2020'}\n"
     ]
    }
   ],
   "source": [
    "print(user_name)"
   ]
  },
  {
   "cell_type": "code",
   "execution_count": null,
   "id": "e6a20241",
   "metadata": {},
   "outputs": [],
   "source": [
    "# add location:arch_cafe"
   ]
  },
  {
   "cell_type": "code",
   "execution_count": 17,
   "id": "fd675f4b",
   "metadata": {},
   "outputs": [],
   "source": [
    "user_name['location'] = 'arch_cafe'"
   ]
  },
  {
   "cell_type": "code",
   "execution_count": 18,
   "id": "399ca0ec",
   "metadata": {},
   "outputs": [
    {
     "name": "stdout",
     "output_type": "stream",
     "text": [
      "{'first_name': 'code', 'last_name': 'training', 'password': '54321', 'dob': '01-01-2020', 'location': 'arch_cafe'}\n"
     ]
    }
   ],
   "source": [
    "print(user_name)"
   ]
  },
  {
   "cell_type": "code",
   "execution_count": null,
   "id": "1f0bf47a",
   "metadata": {},
   "outputs": [],
   "source": []
  }
 ],
 "metadata": {
  "kernelspec": {
   "display_name": "Python 3 (ipykernel)",
   "language": "python",
   "name": "python3"
  },
  "language_info": {
   "codemirror_mode": {
    "name": "ipython",
    "version": 3
   },
   "file_extension": ".py",
   "mimetype": "text/x-python",
   "name": "python",
   "nbconvert_exporter": "python",
   "pygments_lexer": "ipython3",
   "version": "3.11.3"
  }
 },
 "nbformat": 4,
 "nbformat_minor": 5
}
